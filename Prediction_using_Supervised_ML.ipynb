{
  "nbformat": 4,
  "nbformat_minor": 0,
  "metadata": {
    "colab": {
      "private_outputs": true,
      "provenance": [],
      "authorship_tag": "ABX9TyN5dO+ggH1RgSGnhtC4dWrs",
      "include_colab_link": true
    },
    "kernelspec": {
      "name": "python3",
      "display_name": "Python 3"
    },
    "language_info": {
      "name": "python"
    }
  },
  "cells": [
    {
      "cell_type": "markdown",
      "metadata": {
        "id": "view-in-github",
        "colab_type": "text"
      },
      "source": [
        "<a href=\"https://colab.research.google.com/github/data-enthusiast-shubhs/Sparks_foundation/blob/main/Prediction_using_Supervised_ML.ipynb\" target=\"_parent\"><img src=\"https://colab.research.google.com/assets/colab-badge.svg\" alt=\"Open In Colab\"/></a>"
      ]
    },
    {
      "cell_type": "markdown",
      "source": [
        "# **The Sparks Foundation Graduate Rotational Internship Program (GRIP)**"
      ],
      "metadata": {
        "id": "4HmaYrX7t5Iu"
      }
    },
    {
      "cell_type": "markdown",
      "source": [
        "## **DATA SCIENCE**"
      ],
      "metadata": {
        "id": "cXI300ZQ2Cfe"
      }
    },
    {
      "cell_type": "markdown",
      "source": [
        "## **NAME - SHUBHAM OLI**"
      ],
      "metadata": {
        "id": "vsHtJCNHt5Cc"
      }
    },
    {
      "cell_type": "markdown",
      "source": [
        "## **TASK - 1**\n",
        "## **Prediction using Machine Learning**"
      ],
      "metadata": {
        "id": "uzFQRUkwt5F1"
      }
    },
    {
      "cell_type": "markdown",
      "source": [
        "### TOPIC - To predict the percentage of students based on their study hours"
      ],
      "metadata": {
        "id": "gihK-cniuT4b"
      }
    },
    {
      "cell_type": "code",
      "source": [
        "from IPython.display import Image\n",
        "Image(url='https://th.bing.com/th/id/OIP.VLs81ZIYnYkEoBg7Q8v5pAHaF9?pid=ImgDet&rs=1', width=850)\n",
        "     "
      ],
      "metadata": {
        "id": "UziA96MLDzX5"
      },
      "execution_count": null,
      "outputs": []
    },
    {
      "cell_type": "markdown",
      "source": [
        "### **PROJECT SUMMARY** -\n",
        "\n",
        "In this project, I used various libraries such as NumPy, Pandas, Matplotlib, Seaborn to analyze and predict the percentage of students based on their study hours. The project involved several steps, including data wrangling, data preprocessing, exploratory data analysis (EDA), plotting graphs and heatmaps, and splitting the data into training and testing sets.\n",
        "\n",
        "After preprocessing the data, I used the Linear Regression algorithm from the scikit-learn library to build a predictive model. The model was trained using the training data, and then I evaluated its performance by making predictions on the test data.\n",
        "\n",
        "To further validate the model, I used the slope of the line formula to calculate the slope of the regression line. This helped in understanding the relationship between study hours and percentage of students.\n",
        "\n",
        "Overall, this project aimed to analyze the relationship between study hours and students' percentages and build a predictive model using linear regression. The model's performance was assessed through various techniques, including visualizations, train-test splitting, and verifying the line's slope"
      ],
      "metadata": {
        "id": "4ydrWLwq4oov"
      }
    },
    {
      "cell_type": "markdown",
      "source": [
        "## **GITHUB LINK-**\n",
        "### https://github.com/data-enthusiast-shubhs/Sparks_foundation.git"
      ],
      "metadata": {
        "id": "CfZK1P0o27rI"
      }
    },
    {
      "cell_type": "markdown",
      "source": [
        "## **Importing the Libraries**"
      ],
      "metadata": {
        "id": "1XhwajvXx8_t"
      }
    },
    {
      "cell_type": "code",
      "source": [
        "# Importing Libraries\n",
        "import pandas as pd\n",
        "import numpy as np\n",
        "import seaborn as sns\n",
        "import matplotlib.pyplot as plt\n",
        "%matplotlib inline"
      ],
      "metadata": {
        "id": "Jp_jGo5qtrMC"
      },
      "execution_count": null,
      "outputs": []
    },
    {
      "cell_type": "code",
      "execution_count": null,
      "metadata": {
        "id": "UlaR1tH4tiCW"
      },
      "outputs": [],
      "source": [
        "# Importing Dataset\n",
        "data= pd.read_csv(\"/content/student_scores - student_scores.csv\")\n",
        "data"
      ]
    },
    {
      "cell_type": "code",
      "source": [
        "# Checking the shape of our dataset\n",
        "data.shape"
      ],
      "metadata": {
        "id": "bP4F8WKg42y-"
      },
      "execution_count": null,
      "outputs": []
    },
    {
      "cell_type": "code",
      "source": [
        "# Checking Statistical information\n",
        "data.describe()"
      ],
      "metadata": {
        "id": "KBsFX4gLtw7I"
      },
      "execution_count": null,
      "outputs": []
    },
    {
      "cell_type": "code",
      "source": [
        "# Summary of dataframe\n",
        "data.info()"
      ],
      "metadata": {
        "id": "4JYIui1Juxi6"
      },
      "execution_count": null,
      "outputs": []
    },
    {
      "cell_type": "markdown",
      "source": [
        "## **EXPLORATORY DATA ANALYSIS**"
      ],
      "metadata": {
        "id": "rCKt4xx846U-"
      }
    },
    {
      "cell_type": "code",
      "source": [
        "#Checking null values\n",
        "data.isnull()"
      ],
      "metadata": {
        "id": "YHmm9vb147m3"
      },
      "execution_count": null,
      "outputs": []
    },
    {
      "cell_type": "code",
      "source": [
        "data.isnull().sum()"
      ],
      "metadata": {
        "id": "96Jq4mC94_72"
      },
      "execution_count": null,
      "outputs": []
    },
    {
      "cell_type": "code",
      "source": [
        "# visualizing to see if there is any null value or not with the help of Heatmap\n",
        "\n",
        "sns.heatmap(data.isnull(), yticklabels = False, cbar=True, cmap='viridis')"
      ],
      "metadata": {
        "id": "dbAFSnQ-4_4t"
      },
      "execution_count": null,
      "outputs": []
    },
    {
      "cell_type": "markdown",
      "source": [
        "**We can see that in above heatmap, there is no any yellow line. Its fully clean, which means that there is no any null value.**"
      ],
      "metadata": {
        "id": "AUQ_L8Q65fUQ"
      }
    },
    {
      "cell_type": "markdown",
      "source": [
        "## **Plotting our data points on 2-D graph**"
      ],
      "metadata": {
        "id": "CDr8WlGeu1cq"
      }
    },
    {
      "cell_type": "code",
      "source": [
        "# Plotting graph using matplotlib library\n",
        "data.plot(x='Hours',y='Scores',style='o')\n",
        "plt.title('Hours v/s Percentage')\n",
        "plt.xlabel('Hours Studied')\n",
        "plt.ylabel('Percentage Score')\n",
        "plt.show()"
      ],
      "metadata": {
        "id": "IcxQHj4uysDt"
      },
      "execution_count": null,
      "outputs": []
    },
    {
      "cell_type": "markdown",
      "source": [
        "**From the above graph, we can clearly see that there is a positive linear relation between the no. of hours studied and percentage of score. The bias is high, hence the data should be split into train and test splits.**"
      ],
      "metadata": {
        "id": "2K5q8KuF6UXw"
      }
    },
    {
      "metadata": {
        "id": "WWtEr64M4jdz"
      },
      "cell_type": "markdown",
      "source": [
        "### **Preparing the data**\n",
        "\n",
        "The next step is to divide the data into \"attributes\" (inputs) and \"labels\" (outputs)."
      ]
    },
    {
      "cell_type": "code",
      "source": [
        "# Dividing the dependent and independent variable\n",
        "X=data.iloc[:,:-1].values\n",
        "y=data.iloc[:,1].values"
      ],
      "metadata": {
        "id": "U2Gb15IF7j6W"
      },
      "execution_count": null,
      "outputs": []
    },
    {
      "cell_type": "markdown",
      "source": [
        "## **Train Test Split**"
      ],
      "metadata": {
        "id": "boCy4lcnzPZx"
      }
    },
    {
      "cell_type": "markdown",
      "source": [
        "Train set is for training/building the model & Test set is for checking the accuracy of the model"
      ],
      "metadata": {
        "id": "NP3cG9cX8BuG"
      }
    },
    {
      "cell_type": "code",
      "source": [
        "from sklearn.model_selection import train_test_split\n",
        "X_train, X_test, y_train, y_test = train_test_split(X,y, test_size=0.2, random_state=0)"
      ],
      "metadata": {
        "id": "a2wxaMIr761x"
      },
      "execution_count": null,
      "outputs": []
    },
    {
      "cell_type": "markdown",
      "source": [
        "**Training the Algorithm**"
      ],
      "metadata": {
        "id": "2hmm5ilP8Xpe"
      }
    },
    {
      "cell_type": "code",
      "source": [
        "from sklearn.linear_model import LinearRegression\n",
        "model= LinearRegression()\n",
        "model.fit(X_train, y_train)"
      ],
      "metadata": {
        "id": "b6_VbrbM8UtJ"
      },
      "execution_count": null,
      "outputs": []
    },
    {
      "cell_type": "code",
      "source": [
        "# Plotting the regression line\n",
        "line= model.coef_*X+model.intercept_"
      ],
      "metadata": {
        "id": "qONxMraZ8lsZ"
      },
      "execution_count": null,
      "outputs": []
    },
    {
      "cell_type": "code",
      "source": [
        "# Plotting for the test data\n",
        "plt.scatter(X,y)\n",
        "plt.plot(X,line);\n",
        "plt.show()"
      ],
      "metadata": {
        "id": "_VZrMRp98ujo"
      },
      "execution_count": null,
      "outputs": []
    },
    {
      "cell_type": "markdown",
      "source": [
        "**Now that we have trained our algorithm, it's time to make some predictions.**"
      ],
      "metadata": {
        "id": "WlBqEzTu93qT"
      }
    },
    {
      "cell_type": "markdown",
      "source": [
        "## **Prediction**"
      ],
      "metadata": {
        "id": "LCKz0gx2dron"
      }
    },
    {
      "cell_type": "code",
      "source": [
        "print(X_test) # Testing data - In Hours\n",
        "y_pred = model.predict(X_test) # Predicting the scores"
      ],
      "metadata": {
        "id": "w4wJL16c9wbk"
      },
      "execution_count": null,
      "outputs": []
    },
    {
      "cell_type": "code",
      "source": [
        "# Comparing - Actual vs Predicted values\n",
        "df = pd.DataFrame({'Actual': y_test, 'Predicted': y_pred})  \n",
        "df "
      ],
      "metadata": {
        "id": "SKLFHwhheQjy"
      },
      "execution_count": null,
      "outputs": []
    },
    {
      "cell_type": "code",
      "source": [
        "# Testing with our own data\n",
        "hours=9.25\n",
        "new_pred=model.predict([[hours]])\n",
        "print(\"No. of Hours = {}\".format(hours))\n",
        "print(\"Predicted Score = {}\".format(new_pred[0]))"
      ],
      "metadata": {
        "id": "gSFxnH_reiUR"
      },
      "execution_count": null,
      "outputs": []
    },
    {
      "cell_type": "markdown",
      "source": [
        "## **Verifying the prediction of model**"
      ],
      "metadata": {
        "id": "s0O0C5mxsxr7"
      }
    },
    {
      "cell_type": "code",
      "source": [
        "model.coef_"
      ],
      "metadata": {
        "id": "w3GoDD908-6C"
      },
      "execution_count": null,
      "outputs": []
    },
    {
      "cell_type": "code",
      "source": [
        "model.intercept_"
      ],
      "metadata": {
        "id": "Ctm5ShAT9AFq"
      },
      "execution_count": null,
      "outputs": []
    },
    {
      "cell_type": "code",
      "source": [
        "# Checking with the Slope of a line formula\n",
        "# y= m * x + b\n",
        "\n",
        "y=9.91065648 * 9.25 + 2.018160041434662\n",
        "y"
      ],
      "metadata": {
        "id": "oqww-vMc9BdR"
      },
      "execution_count": null,
      "outputs": []
    },
    {
      "cell_type": "markdown",
      "source": [
        "## **Now we can see that predicted value is 93.69 & we also verify that predicted value as y=m*X+b, and got the same value** "
      ],
      "metadata": {
        "id": "c4jxUPV69eCL"
      }
    }
  ]
}