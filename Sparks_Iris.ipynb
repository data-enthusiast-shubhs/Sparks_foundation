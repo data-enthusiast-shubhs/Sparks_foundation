{
  "nbformat": 4,
  "nbformat_minor": 0,
  "metadata": {
    "colab": {
      "private_outputs": true,
      "provenance": [],
      "collapsed_sections": [
        "sepIaLyBS4MA"
      ],
      "authorship_tag": "ABX9TyMkxYyPuQWBq6yOha7hAQqB",
      "include_colab_link": true
    },
    "kernelspec": {
      "name": "python3",
      "display_name": "Python 3"
    },
    "language_info": {
      "name": "python"
    }
  },
  "cells": [
    {
      "cell_type": "markdown",
      "metadata": {
        "id": "view-in-github",
        "colab_type": "text"
      },
      "source": [
        "<a href=\"https://colab.research.google.com/github/data-enthusiast-shubhs/Sparks_foundation/blob/main/Sparks_Iris.ipynb\" target=\"_parent\"><img src=\"https://colab.research.google.com/assets/colab-badge.svg\" alt=\"Open In Colab\"/></a>"
      ]
    },
    {
      "cell_type": "markdown",
      "source": [
        "# **The Sparks Foundation Graduate Rotational Internship Program (GRIP)**"
      ],
      "metadata": {
        "id": "4QXakkmxRNFy"
      }
    },
    {
      "cell_type": "markdown",
      "source": [
        "## **DATA SCIENCE**"
      ],
      "metadata": {
        "id": "HpLuJs0RRWsn"
      }
    },
    {
      "cell_type": "markdown",
      "source": [
        "## **NAME - SHUBHAM OLI**"
      ],
      "metadata": {
        "id": "Ge3kcO3lRZNP"
      }
    },
    {
      "cell_type": "markdown",
      "source": [
        "## **TASK - 2**"
      ],
      "metadata": {
        "id": "zpLS51DSRdpn"
      }
    },
    {
      "cell_type": "markdown",
      "source": [
        "## **Prediction using Decision Tree Algorithm**"
      ],
      "metadata": {
        "id": "VsG0NRmQRfaZ"
      }
    },
    {
      "cell_type": "markdown",
      "source": [
        "## **TOPIC - IRIS FLOWER CLASSIFICATION**"
      ],
      "metadata": {
        "id": "4aQ4RBvKRpHR"
      }
    },
    {
      "cell_type": "code",
      "execution_count": null,
      "metadata": {
        "id": "zVKJ7ZonRAjo"
      },
      "outputs": [],
      "source": [
        "from IPython.display import Image\n",
        "Image(url='https://editor.analyticsvidhya.com/uploads/51518iris%20img1.png', width=1050)"
      ]
    },
    {
      "cell_type": "markdown",
      "source": [
        "### **PROJECT SUMMARY**-\n",
        "The project focuses on the classification of iris flowers using the decision tree algorithm. To accomplish this task, several Python libraries such as NumPy, Pandas, Matplotlib, and Seaborn were utilized. These libraries provide essential functionalities for data manipulation, visualization, and analysis.\n",
        "\n",
        "The dataset used for this project contains various attributes of iris flowers, such as sepal length, sepal width, petal length, and petal width. The goal is to train a decision tree model to predict the correct species of the iris flower based on these attributes.\n",
        "\n",
        "Data preprocessing techniques were employed to handle missing values, normalize the data, and split it into training and testing sets. Exploratory data analysis was conducted using scatter plots, heatmaps, and pair plots to gain insights into the relationships between different attributes and the target variable.\n",
        "\n",
        "The decision tree algorithm was then implemented, and hyperparameter tuning was performed to optimize the model's performance. The decision tree graph was generated to visualize the decision-making process of the trained model.\n",
        "\n",
        "Overall, the project successfully developed a classification model using the decision tree algorithm to predict the species of iris flowers. The visualizations and exploratory analysis provided valuable insights into the dataset, enhancing the understanding of the relationships between the attributes."
      ],
      "metadata": {
        "id": "HHJgOLGdS1kH"
      }
    },
    {
      "cell_type": "markdown",
      "source": [
        "## **GITHUB LINK**-\n",
        "**https://github.com/data-enthusiast-shubhs/Sparks_foundation.git**"
      ],
      "metadata": {
        "id": "sepIaLyBS4MA"
      }
    },
    {
      "cell_type": "markdown",
      "source": [
        "### **PROBLEM STATEMENT**-\n",
        "Create a Decision Tree Classifier and visualize it graphically.\\\n",
        "The purpose is if we feed any new data to this classifier, it would be able to predict the right class accordingly."
      ],
      "metadata": {
        "id": "p5-QnqZqTB0G"
      }
    },
    {
      "cell_type": "markdown",
      "source": [
        "## ***Let's Begin -:***"
      ],
      "metadata": {
        "id": "JKiL4vdQYN-X"
      }
    },
    {
      "cell_type": "markdown",
      "source": [
        "## **Import the Libraries**"
      ],
      "metadata": {
        "id": "x_WehhxvYWjc"
      }
    },
    {
      "cell_type": "code",
      "source": [
        "import numpy as np\n",
        "import pandas as pd\n",
        "import matplotlib.pyplot as plt\n",
        "import seaborn as sns\n",
        "from sklearn import datasets\n",
        "\n",
        "from sklearn import metrics\n",
        "%pylab inline \n",
        "%matplotlib inline\n"
      ],
      "metadata": {
        "id": "9pa95z9A_e-H"
      },
      "execution_count": null,
      "outputs": []
    },
    {
      "cell_type": "code",
      "source": [
        "import warnings \n",
        "warnings.filterwarnings('ignore')"
      ],
      "metadata": {
        "id": "bET-O6rHCc77"
      },
      "execution_count": null,
      "outputs": []
    },
    {
      "cell_type": "markdown",
      "source": [
        "## **Loading the Dataset**"
      ],
      "metadata": {
        "id": "JXgkxXxeYr-G"
      }
    },
    {
      "cell_type": "code",
      "source": [
        "iris = pd.read_csv('/content/Iris.csv')\n",
        "iris"
      ],
      "metadata": {
        "id": "EjWR8GeUC7at"
      },
      "execution_count": null,
      "outputs": []
    },
    {
      "cell_type": "code",
      "source": [
        "# Dataset First Look From Top Five Rows & Columns\n",
        "iris.head()"
      ],
      "metadata": {
        "id": "wxN4nWjxZJzF"
      },
      "execution_count": null,
      "outputs": []
    },
    {
      "cell_type": "code",
      "source": [
        "# Dataset First Look From Bottom Five Rows & Columns\n",
        "iris.tail()"
      ],
      "metadata": {
        "id": "SYcte9WxZJwl"
      },
      "execution_count": null,
      "outputs": []
    },
    {
      "cell_type": "markdown",
      "source": [
        "## **Dataset Rows & Columns count**"
      ],
      "metadata": {
        "id": "KXcLRJT-ZWbu"
      }
    },
    {
      "cell_type": "code",
      "source": [
        "# Dataset Rows & Columns count\n",
        "iris.shape"
      ],
      "metadata": {
        "id": "Lz97CfCJZJt4"
      },
      "execution_count": null,
      "outputs": []
    },
    {
      "cell_type": "markdown",
      "source": [
        "## **EXPLORATORY DATA ANALYSIS**"
      ],
      "metadata": {
        "id": "Mr5gNDKmZ5um"
      }
    },
    {
      "cell_type": "markdown",
      "source": [
        "## **Dataset Information**"
      ],
      "metadata": {
        "id": "d7y5axXVZbbU"
      }
    },
    {
      "cell_type": "code",
      "source": [
        "# Dataset Info\n",
        "iris.info()"
      ],
      "metadata": {
        "id": "Qrr1fLD0ZJrP"
      },
      "execution_count": null,
      "outputs": []
    },
    {
      "cell_type": "markdown",
      "source": [
        "## **Duplicate Values**"
      ],
      "metadata": {
        "id": "uHougcW8ZhZm"
      }
    },
    {
      "cell_type": "code",
      "source": [
        "# Dataset Duplicate Value Count\n",
        "duplicated_values_count = len(iris[iris.duplicated()])\n",
        "\n",
        "print(\"Number of duplicated values:\", duplicated_values_count)"
      ],
      "metadata": {
        "id": "98IovIfmZJoV"
      },
      "execution_count": null,
      "outputs": []
    },
    {
      "cell_type": "markdown",
      "source": [
        "## **Missing Values/Null Values**"
      ],
      "metadata": {
        "id": "2EcGtLJOZoOf"
      }
    },
    {
      "cell_type": "code",
      "source": [
        "# Missing Values/Null Values Count\n",
        "iris.isnull().sum()"
      ],
      "metadata": {
        "id": "FZnyQrwFZpln"
      },
      "execution_count": null,
      "outputs": []
    },
    {
      "cell_type": "markdown",
      "source": [
        "## **Renaming complex names**"
      ],
      "metadata": {
        "id": "YIqplDLDahJk"
      }
    },
    {
      "cell_type": "code",
      "source": [
        "# Rename the complex columns name\n",
        "iris= iris.rename(columns={'SepalLengthCm':'Sepal_Length',\n",
        "                           'SepalWidthCm':'Sepal_Width',\n",
        "                           'PetalLengthCm':'Petal_Length',\n",
        "                           'PetalWidthCm':'Petal_Width'})"
      ],
      "metadata": {
        "id": "5EazkTisagSO"
      },
      "execution_count": null,
      "outputs": []
    },
    {
      "cell_type": "code",
      "source": [
        "iris.head()"
      ],
      "metadata": {
        "id": "XoNkxfw1anq9"
      },
      "execution_count": null,
      "outputs": []
    },
    {
      "cell_type": "code",
      "source": [
        "# Visualizing the missing values\n",
        "sns.heatmap(iris.isnull(), cmap='viridis', cbar=True)"
      ],
      "metadata": {
        "id": "sEwiHSuRZqN-"
      },
      "execution_count": null,
      "outputs": []
    },
    {
      "cell_type": "markdown",
      "source": [
        "**We can see that in above heatmap, there is no  yellow line. Its fully clean, which means that there is no  null value.**"
      ],
      "metadata": {
        "id": "C0O-q6F9Z_LU"
      }
    },
    {
      "cell_type": "markdown",
      "source": [
        "### **What did you know about your dataset?**"
      ],
      "metadata": {
        "id": "0ZauXoV9aKCk"
      }
    },
    {
      "cell_type": "markdown",
      "source": [
        "### **Observations About Dataset**\n",
        "\n",
        "1.**The dataset contains 150 rows and 6 columns**\n",
        "\n",
        "2.**No duplicate values present in the dataset**.\n",
        "\n",
        "3.**NO missing values present in the dataset**. "
      ],
      "metadata": {
        "id": "ZZjMnBcBaH_U"
      }
    },
    {
      "cell_type": "markdown",
      "source": [
        "## **Visualization**"
      ],
      "metadata": {
        "id": "Rmzm1gBsbShk"
      }
    },
    {
      "cell_type": "markdown",
      "source": [
        "### **Scatterplot**"
      ],
      "metadata": {
        "id": "HLUV_7S1bUkU"
      }
    },
    {
      "cell_type": "code",
      "source": [
        "# classifying the dataset through visualization\n",
        "sns.FacetGrid(iris, hue=\"Species\",height=6).map(plt.scatter,\"Petal_Length\",\"Sepal_Width\").add_legend()"
      ],
      "metadata": {
        "id": "3xmv8QZ8ZqIV"
      },
      "execution_count": null,
      "outputs": []
    },
    {
      "cell_type": "markdown",
      "source": [
        "### **Pairplot**"
      ],
      "metadata": {
        "id": "-tjMVkvobb0F"
      }
    },
    {
      "cell_type": "code",
      "source": [
        "# visualize the whole dataset\n",
        "sns.pairplot(iris[['Sepal_Length','Sepal_Width','Petal_Length','Petal_Width','Species']], hue=\"Species\",diag_kind='kde')     "
      ],
      "metadata": {
        "id": "St7l1Hb5ZqFu"
      },
      "execution_count": null,
      "outputs": []
    },
    {
      "cell_type": "markdown",
      "source": [
        "## **Dataset Description**"
      ],
      "metadata": {
        "id": "jxtcMLDpa09t"
      }
    },
    {
      "cell_type": "code",
      "source": [
        "# checking statistical features\n",
        "iris.describe().T"
      ],
      "metadata": {
        "id": "c7_jXFeWa4Nm"
      },
      "execution_count": null,
      "outputs": []
    },
    {
      "cell_type": "code",
      "source": [
        "# converting categorical variables into numbers\n",
        "flower_mapping = {'Iris-setosa':0,'Iris-versicolor':1,'Iris-virginica':2}\n",
        "iris['Species']=iris['Species'].map(flower_mapping)"
      ],
      "metadata": {
        "id": "hyOHCRsDcoEM"
      },
      "execution_count": null,
      "outputs": []
    },
    {
      "cell_type": "code",
      "source": [
        "iris.head()"
      ],
      "metadata": {
        "id": "JaHR1MHFcqjl"
      },
      "execution_count": null,
      "outputs": []
    },
    {
      "cell_type": "markdown",
      "source": [
        "## **SEPARATING INPUT COLUMNS AND THE OUTPUT COLUMNS**"
      ],
      "metadata": {
        "id": "Oe7VzLM_bris"
      }
    },
    {
      "cell_type": "code",
      "source": [
        "# Separate features and target\n",
        "data=iris.values\n",
        "\n",
        "# slicing the matrices\n",
        "X=data[:,0:4]\n",
        "Y=data[:,5]\n"
      ],
      "metadata": {
        "id": "KeQk_UCFZqC9"
      },
      "execution_count": null,
      "outputs": []
    },
    {
      "cell_type": "code",
      "source": [
        "print(X.shape)"
      ],
      "metadata": {
        "id": "8azNlBpOZp_2"
      },
      "execution_count": null,
      "outputs": []
    },
    {
      "cell_type": "code",
      "source": [
        "print(Y.shape)"
      ],
      "metadata": {
        "id": "cFVEDO6FbxEk"
      },
      "execution_count": null,
      "outputs": []
    },
    {
      "cell_type": "markdown",
      "source": [
        "## **SPLITTING DATA INTO TRAINING AND TESTING**"
      ],
      "metadata": {
        "id": "lgn_n6Nsb6LN"
      }
    },
    {
      "cell_type": "code",
      "source": [
        "# split the data to train and test dataset\n",
        "     \n",
        "from sklearn.model_selection import train_test_split\n",
        "X_train, X_test, y_train, y_test= train_test_split(X,Y, test_size=0.2)"
      ],
      "metadata": {
        "id": "a9cTPwlYbxB8"
      },
      "execution_count": null,
      "outputs": []
    },
    {
      "cell_type": "code",
      "source": [
        "print(X_train.shape)"
      ],
      "metadata": {
        "id": "k-Eddz6ncADc"
      },
      "execution_count": null,
      "outputs": []
    },
    {
      "cell_type": "code",
      "source": [
        "print(X_test.shape)"
      ],
      "metadata": {
        "id": "HH0zNUs2b_58"
      },
      "execution_count": null,
      "outputs": []
    },
    {
      "cell_type": "code",
      "source": [
        "print(y_train.shape)"
      ],
      "metadata": {
        "id": "WrGA23sIbw_F"
      },
      "execution_count": null,
      "outputs": []
    },
    {
      "cell_type": "code",
      "source": [
        "print(y_test.shape)"
      ],
      "metadata": {
        "id": "n7-X9ofnb_9E"
      },
      "execution_count": null,
      "outputs": []
    },
    {
      "cell_type": "markdown",
      "source": [
        "# **APPLYING ALGORITHM**"
      ],
      "metadata": {
        "id": "UkuUlvOdjUmh"
      }
    },
    {
      "cell_type": "code",
      "source": [
        "from sklearn.tree import DecisionTreeClassifier\n",
        "from sklearn import metrics\n",
        "from sklearn.metrics import confusion_matrix"
      ],
      "metadata": {
        "id": "Rq0_em8YlAaJ"
      },
      "execution_count": null,
      "outputs": []
    },
    {
      "cell_type": "code",
      "source": [
        "model=DecisionTreeClassifier(criterion='entropy',max_depth=3)"
      ],
      "metadata": {
        "id": "Q23htva9jT3Z"
      },
      "execution_count": null,
      "outputs": []
    },
    {
      "cell_type": "code",
      "source": [
        "model.fit(X_train,y_train)"
      ],
      "metadata": {
        "id": "-mLRE8TyjeC5"
      },
      "execution_count": null,
      "outputs": []
    },
    {
      "cell_type": "code",
      "source": [
        "model.score(X_train,y_train)"
      ],
      "metadata": {
        "id": "4oYyj1KRjd__"
      },
      "execution_count": null,
      "outputs": []
    },
    {
      "cell_type": "code",
      "source": [
        "model.score(X_test,y_test)"
      ],
      "metadata": {
        "id": "xqjHfLb7jd9l"
      },
      "execution_count": null,
      "outputs": []
    },
    {
      "cell_type": "markdown",
      "source": [
        "## **TUNING PARAMETERS**"
      ],
      "metadata": {
        "id": "ujaryS4Eugv5"
      }
    },
    {
      "cell_type": "code",
      "source": [
        "# load the iris datasets\n",
        "iris = datasets.load_iris()\n",
        "#df = pd.DataFrame(data.data, columns=data.feature_names)\n",
        "#df.head()\n",
        "iris = pd.DataFrame(data= np.c_[iris['data'], iris['target']],\n",
        "                     columns= iris['feature_names'] + ['target'])\n"
      ],
      "metadata": {
        "id": "slDpUJVyEAat"
      },
      "execution_count": null,
      "outputs": []
    },
    {
      "cell_type": "code",
      "source": [
        "from sklearn import datasets\n",
        "from sklearn.tree import DecisionTreeClassifier\n",
        "from sklearn import metrics\n",
        "import numpy as np\n",
        "import matplotlib.pyplot as plt\n",
        "from ipywidgets import interact\n",
        "from IPython.display import display\n",
        "\n",
        "def Decision_Tree(Type, Depth):\n",
        "    # import some data to play with\n",
        "    iris = datasets.load_iris()\n",
        "    X = iris.data[:, :2]  # we only take the first two features.\n",
        "    Y = iris.target\n",
        "    h = .02  # step size in the mesh\n",
        "\n",
        "    # we create an instance of DecisionTreeClassifier and fit the data.\n",
        "    model = DecisionTreeClassifier(criterion=Type, max_depth=Depth)  \n",
        "    model.fit(X, Y)\n",
        "\n",
        "    # Plot the decision boundary. For that, we will assign a color to each\n",
        "    # point in the mesh [x_min, m_max]x[y_min, y_max].\n",
        "    x_min, x_max = X[:, 0].min() - .5, X[:, 0].max() + .5\n",
        "    y_min, y_max = X[:, 1].min() - .5, X[:, 1].max() + .5\n",
        "    xx, yy = np.meshgrid(np.arange(x_min, x_max, h), np.arange(y_min, y_max, h))\n",
        "    Z = model.predict(np.c_[xx.ravel(), yy.ravel()])\n",
        "\n",
        "    # Put the result into a color plot\n",
        "    Z = Z.reshape(xx.shape)\n",
        "    plt.figure(1, figsize=(4, 3))\n",
        "    plt.pcolormesh(xx, yy, Z, cmap=plt.cm.Paired)\n",
        "\n",
        "    # Plot also the training points\n",
        "    plt.scatter(X[:, 0], X[:, 1], c=Y, edgecolors='k', cmap=plt.cm.Paired)\n",
        "    plt.xlabel('Sepal length')\n",
        "    plt.ylabel('Sepal width')\n",
        "    plt.xlim(xx.min(), xx.max())\n",
        "    plt.ylim(yy.min(), yy.max())\n",
        "    plt.xticks(())\n",
        "    plt.yticks(())\n",
        "    plt.show()\n",
        "\n",
        "    model.fit(iris.data, iris.target)\n",
        "    expected = iris.target\n",
        "    predicted = model.predict(iris.data)\n",
        "    print(metrics.classification_report(expected, predicted))\n",
        "    print(metrics.confusion_matrix(expected, predicted))\n",
        "\n",
        "\n",
        "i = interact(Decision_Tree, Type=['gini', 'entropy'], Depth=(1, 10))\n"
      ],
      "metadata": {
        "id": "8vDSCPgOEbGs"
      },
      "execution_count": null,
      "outputs": []
    },
    {
      "cell_type": "markdown",
      "source": [
        "0 -> **SETOSA** \\\n",
        "1 -> **VERSICOLOR** \\\n",
        "2 -> **VIRGINICA**\n"
      ],
      "metadata": {
        "id": "ocHr5zyhmRkH"
      }
    },
    {
      "cell_type": "markdown",
      "source": [
        "## **DECISION TREE GRAPH**"
      ],
      "metadata": {
        "id": "8SUIkl0HixCQ"
      }
    },
    {
      "cell_type": "code",
      "source": [
        "from sklearn.tree import export_graphviz\n",
        "import pydotplus\n",
        "from IPython.display import Image\n",
        "import io\n",
        "from sklearn.datasets import load_iris\n",
        "from sklearn.tree import DecisionTreeClassifier\n",
        "import six\n",
        "\n",
        "# Load the Iris dataset\n",
        "iris = load_iris()\n",
        "\n",
        "# Train a decision tree classifier\n",
        "clf = DecisionTreeClassifier()\n",
        "clf.fit(iris.data, iris.target)\n",
        "\n",
        "# Visualize the graph\n",
        "dot_data = io.StringIO()\n",
        "export_graphviz(clf, out_file=dot_data,  \n",
        "                feature_names=iris.feature_names,  \n",
        "                filled=True, rounded=True,\n",
        "                special_characters=True,\n",
        "                class_names=iris.target_names)\n",
        "graph = pydotplus.graph_from_dot_data(dot_data.getvalue())  \n",
        "Image(graph.create_png())\n"
      ],
      "metadata": {
        "id": "EXpJX4_LgcYp"
      },
      "execution_count": null,
      "outputs": []
    },
    {
      "cell_type": "markdown",
      "source": [
        "0 -> **SETOSA** \\\n",
        "1 -> **VERSICOLOR** \\\n",
        "2 -> **VIRGINICA**\n"
      ],
      "metadata": {
        "id": "s94_S3YJmez-"
      }
    }
  ]
}